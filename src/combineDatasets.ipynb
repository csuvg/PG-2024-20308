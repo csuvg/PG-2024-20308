{
 "cells": [
  {
   "cell_type": "markdown",
   "metadata": {},
   "source": [
    "# Combinar los dos set de datos"
   ]
  },
  {
   "cell_type": "code",
   "execution_count": 10,
   "metadata": {},
   "outputs": [],
   "source": [
    "import os\n",
    "import shutil\n",
    "import cv2"
   ]
  },
  {
   "cell_type": "markdown",
   "metadata": {},
   "source": [
    "Todas las rutas de entrada que tenemos para el set de datos de Roboflow.\n"
   ]
  },
  {
   "cell_type": "code",
   "execution_count": 11,
   "metadata": {},
   "outputs": [],
   "source": [
    "train_images_folder = 'Señales-de-transito-34/train/images'\n",
    "valid_images_folder = 'Señales-de-transito-34/valid/images'\n",
    "test_images_folder = 'Señales-de-transito-34/test/images'\n",
    "\n",
    "train_labels_folder = 'Señales-de-transito-34/train/labels'\n",
    "valid_labels_folder = 'Señales-de-transito-34/valid/labels'\n",
    "test_labels_folder = 'Señales-de-transito-34/test/labels'"
   ]
  },
  {
   "cell_type": "markdown",
   "metadata": {},
   "source": [
    "Las rutas de salida donde queremos combinar los dos set de datos."
   ]
  },
  {
   "cell_type": "code",
   "execution_count": 12,
   "metadata": {},
   "outputs": [],
   "source": [
    "output_images_folder = 'datasets/cropped_and_labeled_final/images'\n",
    "output_labels_folder = 'datasets/cropped_and_labeled_final/labels'"
   ]
  },
  {
   "cell_type": "code",
   "execution_count": 13,
   "metadata": {},
   "outputs": [],
   "source": [
    "os.makedirs(output_images_folder, exist_ok=True)\n",
    "os.makedirs(output_labels_folder, exist_ok=True)"
   ]
  },
  {
   "cell_type": "markdown",
   "metadata": {},
   "source": [
    "Solamente necesitamos las clases de interes de Alto y los tipos de semáforo del set de datos de Roboflow. Estos tienen un nombre especificado en el archivo data.yml.\n",
    "- 2: Pare\n",
    "- 3: Semaforo peatonal rojo\n",
    "- 4: Semafoto peatonal verde"
   ]
  },
  {
   "cell_type": "code",
   "execution_count": 14,
   "metadata": {},
   "outputs": [],
   "source": [
    "classes_of_interest_indices = [2, 3, 4]"
   ]
  },
  {
   "cell_type": "code",
   "execution_count": 15,
   "metadata": {},
   "outputs": [],
   "source": [
    "label_mapping = {\n",
    "    2: \"stop\",  # Cambiar \"Pare\" a \"stop sign\"\n",
    "    3: \"pedestrian_traffic_light_red\",\n",
    "    4: \"pedestrian_traffic_light_green\"\n",
    "}"
   ]
  },
  {
   "cell_type": "code",
   "execution_count": 16,
   "metadata": {},
   "outputs": [],
   "source": [
    "def process_folder(images_folder, labels_folder):\n",
    "    images = os.listdir(images_folder)\n",
    "\n",
    "    for image_filename in images:\n",
    "        image_path = os.path.join(images_folder, image_filename)\n",
    "\n",
    "        # Reemplazar puntos adicionales en los nombres de archivo, si es necesario\n",
    "        image_filename_cleaned = image_filename.replace('.', '_').rsplit('_', 1)[0] + '.' + image_filename.rsplit('.', 1)[1]\n",
    "        label_filename = image_filename.replace('.jpg', '.txt')\n",
    "        label_filename_cleaned = image_filename_cleaned.replace('.jpg', '.txt')\n",
    "\n",
    "        label_path = os.path.join(labels_folder, label_filename)\n",
    "\n",
    "        if not os.path.exists(label_path):\n",
    "            continue  # Si no hay archivo de label, saltar\n",
    "\n",
    "        # Leer la imagen\n",
    "        img = cv2.imread(image_path)\n",
    "        h, w, _ = img.shape  # Obtener el tamaño de la imagen\n",
    "\n",
    "        with open(label_path, 'r') as label_file:\n",
    "            label_data = label_file.readlines()\n",
    "\n",
    "        # Procesar cada línea de etiquetas y verificar si contiene una clase de interés\n",
    "        for line in label_data:\n",
    "            parts = line.strip().split()\n",
    "            label_index = int(parts[0])  # El primer número en la línea es el índice de la clase\n",
    "\n",
    "            if label_index in classes_of_interest_indices:\n",
    "                # Coordenadas YOLO: (class_id, x_center, y_center, width, height) (todas en formato relativo)\n",
    "                x_center_rel = float(parts[1])\n",
    "                y_center_rel = float(parts[2])\n",
    "                bbox_width_rel = float(parts[3])\n",
    "                bbox_height_rel = float(parts[4])\n",
    "\n",
    "                # Convertir coordenadas relativas a absolutas (píxeles)\n",
    "                x_center = int(x_center_rel * w)\n",
    "                y_center = int(y_center_rel * h)\n",
    "                bbox_width = int(bbox_width_rel * w)\n",
    "                bbox_height = int(bbox_height_rel * h)\n",
    "\n",
    "                # Calcular las coordenadas del bounding box\n",
    "                x_min = max(0, x_center - bbox_width // 2)\n",
    "                y_min = max(0, y_center - bbox_height // 2)\n",
    "                x_max = min(w, x_center + bbox_width // 2)\n",
    "                y_max = min(h, y_center + bbox_height // 2)\n",
    "\n",
    "                # Recortar la imagen basada en las coordenadas del bounding box\n",
    "                cropped_img = img[y_min:y_max, x_min:x_max]\n",
    "\n",
    "                # Redimensionar la imagen recortada a 256x256\n",
    "                resized_img = cv2.resize(cropped_img, (256, 256))\n",
    "\n",
    "                # Guardar la imagen recortada en la carpeta de salida\n",
    "                output_image_path = os.path.join(output_images_folder, image_filename_cleaned)\n",
    "                cv2.imwrite(output_image_path, resized_img)\n",
    "\n",
    "                # Obtener el nombre de la clase basado en el mapeo\n",
    "                label_name = label_mapping[label_index]\n",
    "\n",
    "                # Guardar la etiqueta con el nombre adecuado\n",
    "                output_label_path = os.path.join(output_labels_folder, label_filename_cleaned)\n",
    "\n",
    "                with open(output_label_path, 'w') as output_label_file:\n",
    "                    output_label_file.write(label_name)\n",
    "\n",
    "                break  # Ya hemos encontrado una clase de interés, no necesitamos seguir procesando este archivo\n"
   ]
  },
  {
   "cell_type": "code",
   "execution_count": 17,
   "metadata": {},
   "outputs": [],
   "source": [
    "process_folder(train_images_folder, train_labels_folder)\n",
    "process_folder(valid_images_folder, valid_labels_folder)\n",
    "process_folder(test_images_folder, test_labels_folder)"
   ]
  }
 ],
 "metadata": {
  "kernelspec": {
   "display_name": "Python 3",
   "language": "python",
   "name": "python3"
  },
  "language_info": {
   "codemirror_mode": {
    "name": "ipython",
    "version": 3
   },
   "file_extension": ".py",
   "mimetype": "text/x-python",
   "name": "python",
   "nbconvert_exporter": "python",
   "pygments_lexer": "ipython3",
   "version": "3.10.5"
  }
 },
 "nbformat": 4,
 "nbformat_minor": 2
}
