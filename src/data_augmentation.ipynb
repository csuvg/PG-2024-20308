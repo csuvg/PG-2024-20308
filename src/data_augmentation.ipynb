{
 "cells": [
  {
   "cell_type": "markdown",
   "metadata": {},
   "source": [
    "# Data Augmentation"
   ]
  },
  {
   "cell_type": "code",
   "execution_count": 19,
   "metadata": {},
   "outputs": [],
   "source": [
    "from PIL import Image, ImageEnhance, ImageOps\n",
    "import shutil\n",
    "import os\n",
    "import cv2\n",
    "import numpy as np"
   ]
  },
  {
   "cell_type": "markdown",
   "metadata": {},
   "source": [
    "Debemos de definir los folders de input y output para el proceso de data augmentation. Debemos de mencionar que aqui hay un folder intermedio pues aqui guardamos las imagenes resultantes de dos tipos de augmentation para luego al conjunto completo aplicarle más filtros de augmentation."
   ]
  },
  {
   "cell_type": "code",
   "execution_count": 20,
   "metadata": {},
   "outputs": [],
   "source": [
    "input_folder = 'datasets/cropped_and_labeled_final/images'\n",
    "labels_folder = 'datasets/cropped_and_labeled_final/labels'\n",
    "intermediate_images_folder = 'datasets/intermediate_augmented/images'\n",
    "intermediate_labels_folder = 'datasets/intermediate_augmented/labels'"
   ]
  },
  {
   "cell_type": "code",
   "execution_count": 21,
   "metadata": {},
   "outputs": [],
   "source": [
    "final_images_folderV1 = 'datasets/final_dataset_v1/images'\n",
    "final_labels_folderV1 = 'datasets/final_dataset_v1/labels'"
   ]
  },
  {
   "cell_type": "markdown",
   "metadata": {},
   "source": [
    "Nos aseguramos que existan estas direcciones o de lo contrario las creamos para poder almacenar el output del proceso de data augmentation."
   ]
  },
  {
   "cell_type": "code",
   "execution_count": 22,
   "metadata": {},
   "outputs": [],
   "source": [
    "if not os.path.exists(intermediate_images_folder):\n",
    "    os.makedirs(intermediate_images_folder)\n",
    "\n",
    "if not os.path.exists(intermediate_labels_folder):\n",
    "    os.makedirs(intermediate_labels_folder)\n",
    "\n",
    "if not os.path.exists(final_images_folderV1):\n",
    "    os.makedirs(final_images_folderV1)\n",
    "\n",
    "if not os.path.exists(final_labels_folderV1):\n",
    "    os.makedirs(final_labels_folderV1)"
   ]
  },
  {
   "cell_type": "code",
   "execution_count": 23,
   "metadata": {},
   "outputs": [],
   "source": [
    "def count_images_in_folder(folder_path):\n",
    "    return len([file for file in os.listdir(folder_path) if file.endswith('.jpg')])"
   ]
  },
  {
   "cell_type": "markdown",
   "metadata": {},
   "source": [
    "Tenemos que definir las transformaciones que vamos a estar realizando. Para ello primero las imagenes pasaran por un proceso de flip y rotation donde estaremos rotando y girando en multiples ángulos las imagenes."
   ]
  },
  {
   "cell_type": "code",
   "execution_count": 24,
   "metadata": {},
   "outputs": [],
   "source": [
    "angles = [-45, 0, 45]  # Rotaciones en grados"
   ]
  },
  {
   "cell_type": "markdown",
   "metadata": {},
   "source": [
    "Luego de esto tenemos un set de imagenes que han sido rotadas y a estar les aplicaremos los filtros de color, brillo, ruido y demás para enriquecer nuestro set."
   ]
  },
  {
   "cell_type": "code",
   "execution_count": 25,
   "metadata": {},
   "outputs": [],
   "source": [
    "def first_phase_augmentation(input_folder, labels_folder, intermediate_images_folder, intermediate_labels_folder):\n",
    "    initial_image_count = count_images_in_folder(input_folder)\n",
    "    print(f\"Cantidad inicial de imágenes: {initial_image_count}\")\n",
    "\n",
    "    images = [os.path.join(input_folder, file) for file in os.listdir(input_folder) if file.endswith('.jpg')]\n",
    "\n",
    "    for img_path in images:\n",
    "        img = Image.open(img_path)\n",
    "        img_name = os.path.basename(img_path).split('.')[0]\n",
    "        label_path = os.path.join(labels_folder, f\"{img_name}.txt\")\n",
    "\n",
    "        # Copiar la etiqueta original a la carpeta de labels antes de la augmentación\n",
    "        shutil.copy(label_path, os.path.join(intermediate_labels_folder, f\"{img_name}.txt\"))\n",
    "\n",
    "        for angle in angles:\n",
    "            # Aplicar rotación sin flip\n",
    "            rotated_img = img.rotate(angle)\n",
    "\n",
    "            # Guardar la imagen augmentada\n",
    "            output_filename = f\"{img_name}_rot_{angle}.jpg\"\n",
    "            output_image_path = os.path.join(intermediate_images_folder, output_filename)\n",
    "            rotated_img.save(output_image_path)\n",
    "\n",
    "            # Guardar el archivo de label con el mismo nombre que la imagen\n",
    "            output_label_filename = f\"{img_name}_rot_{angle}.txt\"\n",
    "            output_label_path = os.path.join(intermediate_labels_folder, output_label_filename)\n",
    "            shutil.copy(label_path, output_label_path)  # Copiar el mismo label de la imagen original\n",
    "            # print(f\"Imagen y label guardados: {output_filename}, {output_label_filename}\")\n",
    "\n",
    "    final_image_count_fase1 = count_images_in_folder(intermediate_images_folder)\n",
    "    print(f\"Cantidad inicial de imágenes: {final_image_count_fase1}\")\n"
   ]
  },
  {
   "cell_type": "code",
   "execution_count": 26,
   "metadata": {},
   "outputs": [],
   "source": [
    "def second_phase_augmentation(intermediate_images_folder, intermediate_labels_folder, final_images_folder, final_labels_folder):\n",
    "    images = [os.path.join(intermediate_images_folder, file) for file in os.listdir(intermediate_images_folder) if file.endswith('.jpg')]\n",
    "\n",
    "    for img_path in images:\n",
    "        img = Image.open(img_path)\n",
    "        img_name = os.path.basename(img_path).split('.')[0]\n",
    "        label_path = os.path.join(intermediate_labels_folder, f\"{img_name}.txt\")\n",
    "\n",
    "        # Copiar la imagen original y su label antes de hacer augmentación\n",
    "        shutil.copy(img_path, os.path.join(final_images_folder, f\"{img_name}.jpg\"))\n",
    "        shutil.copy(label_path, os.path.join(final_labels_folder, f\"{img_name}.txt\"))\n",
    "\n",
    "        # Ajustes de brillo\n",
    "        high_brightness = ImageEnhance.Brightness(img).enhance(1.5)\n",
    "        low_brightness = ImageEnhance.Brightness(img).enhance(0.5)\n",
    "\n",
    "        # Filtros de color\n",
    "        light_gray_filter = ImageEnhance.Brightness(ImageOps.grayscale(img)).enhance(1.2)\n",
    "\n",
    "        # Ruido para simular gotas de lluvia\n",
    "        noisy_img = np.array(img)\n",
    "        noise = np.random.normal(0, 25, noisy_img.shape).astype(np.uint8)\n",
    "        noisy_img = cv2.addWeighted(noisy_img, 0.8, noise, 0.2, 0)\n",
    "        noisy_img = Image.fromarray(noisy_img)\n",
    "\n",
    "        # Aumento y disminución de tamaño (resizing)\n",
    "        resized_large = img.resize((int(img.width * 1.2), int(img.height * 1.2)))  # Aumentar tamaño 20%\n",
    "        resized_small = img.resize((int(img.width * 0.8), int(img.height * 0.8)))  # Disminuir tamaño 20%\n",
    "\n",
    "        # Guardar todas las versiones augmentadas\n",
    "        transformations = {\n",
    "            \"high_brightness\": high_brightness,\n",
    "            \"low_brightness\": low_brightness,\n",
    "            \"light_gray_filter\": light_gray_filter,\n",
    "            \"rain_noise\": noisy_img,\n",
    "            \"resized_large\": resized_large,\n",
    "            \"resized_small\": resized_small,\n",
    "        }\n",
    "\n",
    "        for name, transformed_img in transformations.items():\n",
    "            output_image_filename = f\"{img_name}_{name}.jpg\"\n",
    "            output_image_path = os.path.join(final_images_folder, output_image_filename)\n",
    "            transformed_img.save(output_image_path)\n",
    "\n",
    "            # Copiar el mismo label de la imagen original\n",
    "            output_label_filename = f\"{img_name}_{name}.txt\"\n",
    "            output_label_path = os.path.join(final_labels_folder, output_label_filename)\n",
    "            shutil.copy(label_path, output_label_path)  # Copiar el label original\n",
    "            # print(f\"Imagen y label guardados: {output_image_filename}, {output_label_filename}\")\n",
    "\n",
    "    # Contar las imágenes resultantes\n",
    "    final_image_count = count_images_in_folder(final_images_folder)\n",
    "    print(f\"Cantidad final de imágenes: {final_image_count}\")"
   ]
  },
  {
   "cell_type": "code",
   "execution_count": 27,
   "metadata": {},
   "outputs": [
    {
     "name": "stdout",
     "output_type": "stream",
     "text": [
      "Cantidad inicial de imágenes: 4569\n",
      "Cantidad inicial de imágenes: 13707\n"
     ]
    }
   ],
   "source": [
    "first_phase_augmentation(input_folder, labels_folder, intermediate_images_folder, intermediate_labels_folder)"
   ]
  },
  {
   "cell_type": "code",
   "execution_count": 28,
   "metadata": {},
   "outputs": [
    {
     "name": "stdout",
     "output_type": "stream",
     "text": [
      "Cantidad final de imágenes: 95949\n"
     ]
    }
   ],
   "source": [
    "second_phase_augmentation(intermediate_images_folder, intermediate_labels_folder, final_images_folderV1, final_labels_folderV1)"
   ]
  },
  {
   "cell_type": "markdown",
   "metadata": {},
   "source": [
    "Vamos a ver cuales son las unicas labels que tenemos en nuestro dataset"
   ]
  },
  {
   "cell_type": "code",
   "execution_count": 29,
   "metadata": {},
   "outputs": [
    {
     "name": "stdout",
     "output_type": "stream",
     "text": [
      "Etiquetas únicas presentes en los archivos .txt:\n",
      "['traffic_light_red', 'traffic_light_green', 'stop sign', 'traffic_light_yellow', 'pedestrian_traffic_light_red', 'stop', 'pedestrian_traffic_light_green']\n"
     ]
    }
   ],
   "source": [
    "# Directorio de labels\n",
    "labels_folder = 'datasets/cropped_and_labeled_final/labels'\n",
    "\n",
    "# Crear un conjunto para almacenar las etiquetas únicas\n",
    "unique_labels = set()\n",
    "\n",
    "# Leer todos los archivos .txt en el directorio de labels\n",
    "for label_filename in os.listdir(labels_folder):\n",
    "    label_path = os.path.join(labels_folder, label_filename)\n",
    "\n",
    "    # Verificar si es un archivo .txt\n",
    "    if label_filename.endswith('.txt'):\n",
    "        with open(label_path, 'r') as label_file:\n",
    "            # Leer el contenido del archivo (cada archivo puede contener una o más etiquetas)\n",
    "            label_data = label_file.read().strip()\n",
    "            # Agregar la etiqueta al conjunto (se evita la duplicación automáticamente)\n",
    "            unique_labels.add(label_data)\n",
    "\n",
    "# Convertir el conjunto en una lista para obtener un arreglo\n",
    "unique_labels_list = list(unique_labels)\n",
    "\n",
    "# Imprimir las etiquetas únicas\n",
    "print(\"Etiquetas únicas presentes en los archivos .txt:\")\n",
    "print(unique_labels_list)"
   ]
  },
  {
   "cell_type": "markdown",
   "metadata": {},
   "source": [
    "Ahora contamos con un set de datos de 95,949 imagenes."
   ]
  },
  {
   "cell_type": "code",
   "execution_count": 30,
   "metadata": {},
   "outputs": [
    {
     "name": "stdout",
     "output_type": "stream",
     "text": [
      "Clase 'pedestrian_traffic_light_green': 1272 ocurrencias\n",
      "Clase 'pedestrian_traffic_light_red': 1256 ocurrencias\n",
      "Clase 'traffic_light_red': 216 ocurrencias\n",
      "Clase 'stop': 1018 ocurrencias\n",
      "Clase 'traffic_light_green': 725 ocurrencias\n",
      "Clase 'traffic_light_yellow': 82 ocurrencias\n"
     ]
    }
   ],
   "source": [
    "# Función para leer archivos de etiquetas\n",
    "def read_label_file(label_file):\n",
    "    labels = []\n",
    "    with open(label_file, 'r') as f:\n",
    "        for line in f.readlines():\n",
    "            class_name = line.split()[0]  # Asumimos que la clase está en la primera columna\n",
    "            labels.append(class_name.strip())  # Normalizamos eliminando espacios\n",
    "    return labels\n",
    "\n",
    "# Función para contar ocurrencias de cada clase\n",
    "def count_class_occurrences(labels_folder):\n",
    "    class_counts = {}\n",
    "\n",
    "    # Recorrer todos los archivos de etiquetas\n",
    "    for label_file in os.listdir(labels_folder):\n",
    "        if label_file.endswith('.txt'):\n",
    "            label_path = os.path.join(labels_folder, label_file)\n",
    "            labels = read_label_file(label_path)\n",
    "\n",
    "            # Contar las clases en cada archivo de etiquetas\n",
    "            for class_name in labels:\n",
    "                if class_name in class_counts:\n",
    "                    class_counts[class_name] += 1\n",
    "                else:\n",
    "                    class_counts[class_name] = 1\n",
    "\n",
    "    # Mostrar el conteo de cada clase\n",
    "    for class_name, count in class_counts.items():\n",
    "        print(f\"Clase '{class_name}': {count} ocurrencias\")\n",
    "\n",
    "    return class_counts\n",
    "\n",
    "# Uso del código\n",
    "labels_folder = 'datasets/cropped_and_labeled_final/labels'\n",
    "class_counts = count_class_occurrences(labels_folder)"
   ]
  },
  {
   "cell_type": "markdown",
   "metadata": {},
   "source": [
    "## Posterior a analisis y visualización de dataset"
   ]
  },
  {
   "cell_type": "markdown",
   "metadata": {},
   "source": [
    "Haremos un cambio en el proceso de data augmentation para reducir la cantidad de filtros y variaciones que le estamos aplicando para reducir los filtros que no representan o no añaden tanto valor al set de datos."
   ]
  },
  {
   "cell_type": "code",
   "execution_count": 31,
   "metadata": {},
   "outputs": [],
   "source": [
    "input_folder = 'datasets/cropped_and_labeled_final/images'\n",
    "labels_folder = 'datasets/cropped_and_labeled_final/labels'\n",
    "final_images_folder = 'datasets/final_output_augmentation/images'\n",
    "final_labels_folder = 'datasets/final_output_augmentation/labels'"
   ]
  },
  {
   "cell_type": "code",
   "execution_count": 32,
   "metadata": {},
   "outputs": [],
   "source": [
    "if not os.path.exists(final_images_folder):\n",
    "    os.makedirs(final_images_folder)\n",
    "\n",
    "if not os.path.exists(final_labels_folder):\n",
    "    os.makedirs(final_labels_folder)"
   ]
  },
  {
   "cell_type": "code",
   "execution_count": 33,
   "metadata": {},
   "outputs": [],
   "source": [
    "def apply_augmentations(img, img_name, label_path, final_images_folder, final_labels_folder):\n",
    "    # Ajustes de brillo\n",
    "    high_brightness = ImageEnhance.Brightness(img).enhance(1.5)\n",
    "    low_brightness = ImageEnhance.Brightness(img).enhance(0.5)\n",
    "\n",
    "    # Ruido para simular gotas de lluvia\n",
    "    noisy_img = np.array(img)\n",
    "    noise = np.random.normal(0, 25, noisy_img.shape).astype(np.uint8)\n",
    "    noisy_img = cv2.addWeighted(noisy_img, 0.8, noise, 0.2, 0)\n",
    "    noisy_img = Image.fromarray(noisy_img)\n",
    "\n",
    "    # Aumento y disminución de tamaño (resizing)\n",
    "    resized_large = img.resize((int(img.width * 1.2), int(img.height * 1.2)))  # Aumentar tamaño 20%\n",
    "    resized_small = img.resize((int(img.width * 0.8), int(img.height * 0.8)))  # Disminuir tamaño 20%\n",
    "\n",
    "    # Guardar todas las versiones augmentadas\n",
    "    transformations = {\n",
    "        \"high_brightness\": high_brightness,\n",
    "        \"low_brightness\": low_brightness,\n",
    "        \"rain_noise\": noisy_img,\n",
    "        \"resized_large\": resized_large,\n",
    "        \"resized_small\": resized_small,\n",
    "    }\n",
    "\n",
    "    for name, transformed_img in transformations.items():\n",
    "        output_image_filename = f\"{img_name}_{name}.jpg\"\n",
    "        output_image_path = os.path.join(final_images_folder, output_image_filename)\n",
    "        transformed_img.save(output_image_path)\n",
    "\n",
    "        # Copiar el mismo label de la imagen original\n",
    "        output_label_filename = f\"{img_name}_{name}.txt\"\n",
    "        output_label_path = os.path.join(final_labels_folder, output_label_filename)\n",
    "        shutil.copy(label_path, output_label_path)\n"
   ]
  },
  {
   "cell_type": "code",
   "execution_count": 34,
   "metadata": {},
   "outputs": [],
   "source": [
    "def unified_augmentation(input_folder, labels_folder, final_images_folder, final_labels_folder):\n",
    "    images = [os.path.join(input_folder, file) for file in os.listdir(input_folder) if file.endswith('.jpg')]\n",
    "\n",
    "    for img_path in images:\n",
    "        img = Image.open(img_path)\n",
    "        img_name = os.path.basename(img_path).split('.')[0]\n",
    "        label_path = os.path.join(labels_folder, f\"{img_name}.txt\")\n",
    "\n",
    "        # Copiar la imagen y el label original a la carpeta final antes de la augmentación\n",
    "        shutil.copy(img_path, os.path.join(final_images_folder, f\"{img_name}.jpg\"))\n",
    "        shutil.copy(label_path, os.path.join(final_labels_folder, f\"{img_name}.txt\"))\n",
    "\n",
    "        # Leer la clase de la etiqueta\n",
    "        labels = read_label_file(label_path)\n",
    "\n",
    "        # Verificar si 'traffic_light_yellow' está presente en las etiquetas\n",
    "        is_traffic_light_yellow = 'traffic_light_yellow' in labels\n",
    "\n",
    "        # Primera fase de augmentación: aplicar rotaciones\n",
    "        angles = [90, 180, 270]\n",
    "        for angle in angles:\n",
    "            rotated_img = img.rotate(angle)\n",
    "            rotated_img_name = f\"{img_name}_rot_{angle}\"\n",
    "\n",
    "            # Guardar imagen rotada\n",
    "            rotated_img_path = os.path.join(final_images_folder, f\"{rotated_img_name}.jpg\")\n",
    "            rotated_img.save(rotated_img_path)\n",
    "\n",
    "            # Copiar el label original a la imagen rotada\n",
    "            shutil.copy(label_path, os.path.join(final_labels_folder, f\"{rotated_img_name}.txt\"))\n",
    "\n",
    "            # Aplicar augmentaciones de la segunda fase solo si el label es 'traffic_light_yellow'\n",
    "            if is_traffic_light_yellow:\n",
    "                apply_augmentations(rotated_img, rotated_img_name, label_path, final_images_folder, final_labels_folder)\n",
    "\n",
    "        # Aplicar augmentaciones de la segunda fase a la imagen original\n",
    "        apply_augmentations(img, img_name, label_path, final_images_folder, final_labels_folder)\n",
    "\n",
    "    # Contar las imágenes resultantes\n",
    "    final_image_count = len(os.listdir(final_images_folder))\n",
    "    print(f\"Cantidad final de imágenes procesadas: {final_image_count}\")"
   ]
  },
  {
   "cell_type": "code",
   "execution_count": 35,
   "metadata": {},
   "outputs": [
    {
     "name": "stdout",
     "output_type": "stream",
     "text": [
      "Cantidad final de imágenes procesadas: 42351\n"
     ]
    }
   ],
   "source": [
    "unified_augmentation(input_folder, labels_folder, final_images_folder, final_labels_folder)"
   ]
  },
  {
   "cell_type": "code",
   "execution_count": 36,
   "metadata": {},
   "outputs": [
    {
     "name": "stdout",
     "output_type": "stream",
     "text": [
      "Etiquetas únicas presentes en los archivos .txt:\n",
      "['traffic_light_red', 'traffic_light_green', 'stop sign', 'traffic_light_yellow', 'pedestrian_traffic_light_red', 'stop', 'pedestrian_traffic_light_green']\n"
     ]
    }
   ],
   "source": [
    "# Directorio de labels\n",
    "labels_folder = 'datasets/cropped_and_labeled_final/labels'\n",
    "\n",
    "# Crear un conjunto para almacenar las etiquetas únicas\n",
    "unique_labels = set()\n",
    "\n",
    "# Leer todos los archivos .txt en el directorio de labels\n",
    "for label_filename in os.listdir(labels_folder):\n",
    "    label_path = os.path.join(labels_folder, label_filename)\n",
    "\n",
    "    # Verificar si es un archivo .txt\n",
    "    if label_filename.endswith('.txt'):\n",
    "        with open(label_path, 'r') as label_file:\n",
    "            # Leer el contenido del archivo (cada archivo puede contener una o más etiquetas)\n",
    "            label_data = label_file.read().strip()\n",
    "            # Agregar la etiqueta al conjunto (se evita la duplicación automáticamente)\n",
    "            unique_labels.add(label_data)\n",
    "\n",
    "# Convertir el conjunto en una lista para obtener un arreglo\n",
    "unique_labels_list = list(unique_labels)\n",
    "\n",
    "# Imprimir las etiquetas únicas\n",
    "print(\"Etiquetas únicas presentes en los archivos .txt:\")\n",
    "print(unique_labels_list)"
   ]
  }
 ],
 "metadata": {
  "kernelspec": {
   "display_name": "Python 3",
   "language": "python",
   "name": "python3"
  },
  "language_info": {
   "codemirror_mode": {
    "name": "ipython",
    "version": 3
   },
   "file_extension": ".py",
   "mimetype": "text/x-python",
   "name": "python",
   "nbconvert_exporter": "python",
   "pygments_lexer": "ipython3",
   "version": "3.10.5"
  }
 },
 "nbformat": 4,
 "nbformat_minor": 2
}
