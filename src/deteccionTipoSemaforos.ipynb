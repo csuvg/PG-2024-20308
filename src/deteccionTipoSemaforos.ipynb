{
 "cells": [
  {
   "cell_type": "markdown",
   "metadata": {},
   "source": [
    "# Detección de tipo de semáforo"
   ]
  },
  {
   "cell_type": "code",
   "execution_count": 9,
   "metadata": {},
   "outputs": [],
   "source": [
    "# !pip install Pillow\n",
    "# !pip install rawpy\n",
    "# !pip install imageio\n",
    "# !pip install yolov5\n",
    "# !pip install torch torchvision\n",
    "# !pip install numpy opencv-python\n",
    "# !pip install roboflow"
   ]
  },
  {
   "cell_type": "code",
   "execution_count": 10,
   "metadata": {},
   "outputs": [],
   "source": [
    "import os\n",
    "import cv2\n",
    "import numpy as np\n",
    "import shutil"
   ]
  },
  {
   "cell_type": "code",
   "execution_count": 11,
   "metadata": {},
   "outputs": [],
   "source": [
    "images_folder = 'datasets/cropped_and_labeled/images'\n",
    "labels_folder = 'datasets/cropped_and_labeled/labels'\n",
    "final_output_folder_images = 'datasets/cropped_and_labeled_final/images'\n",
    "final_output_folder_labels = 'datasets/cropped_and_labeled_final/labels'"
   ]
  },
  {
   "cell_type": "code",
   "execution_count": 12,
   "metadata": {},
   "outputs": [],
   "source": [
    "if not os.path.exists(final_output_folder_images):\n",
    "    os.makedirs(final_output_folder_images)\n",
    "\n",
    "if not os.path.exists(final_output_folder_labels):\n",
    "    os.makedirs(final_output_folder_labels)"
   ]
  },
  {
   "cell_type": "markdown",
   "metadata": {},
   "source": [
    "Función que nos va a permitir poder tener los rangos de color al momento de analizar una imagen y saber si se encuentra en el rango de rojo, verde o amarillo."
   ]
  },
  {
   "cell_type": "code",
   "execution_count": 13,
   "metadata": {},
   "outputs": [],
   "source": [
    "def get_color_ranges():\n",
    "    # Rojo puede estar en dos rangos debido a cómo se define en el espacio HSV\n",
    "    lower_red_1 = np.array([0, 100, 100])\n",
    "    upper_red_1 = np.array([10, 255, 255])\n",
    "    lower_red_2 = np.array([160, 100, 100])\n",
    "    upper_red_2 = np.array([180, 255, 255])\n",
    "\n",
    "    # Verde\n",
    "    lower_green = np.array([40, 40, 40])\n",
    "    upper_green = np.array([90, 255, 255])\n",
    "\n",
    "    # Amarillo\n",
    "    lower_yellow = np.array([20, 100, 100])\n",
    "    upper_yellow = np.array([30, 255, 255])\n",
    "\n",
    "    return [(lower_red_1, upper_red_1), (lower_red_2, upper_red_2), (lower_green, upper_green), (lower_yellow, upper_yellow)]\n"
   ]
  },
  {
   "cell_type": "markdown",
   "metadata": {},
   "source": [
    "Función que permite que podamos utilizar la detección en las imagenes que son de semáforos"
   ]
  },
  {
   "cell_type": "code",
   "execution_count": 14,
   "metadata": {},
   "outputs": [],
   "source": [
    "def detect_traffic_light_color(image):\n",
    "    # Convertir la imagen a HSV\n",
    "    hsv_img = cv2.cvtColor(image, cv2.COLOR_BGR2HSV)\n",
    "\n",
    "    # Obtener los rangos de colores\n",
    "    color_ranges = get_color_ranges()\n",
    "\n",
    "    # Crear máscaras para cada color\n",
    "    red_mask_1 = cv2.inRange(hsv_img, color_ranges[0][0], color_ranges[0][1])\n",
    "    red_mask_2 = cv2.inRange(hsv_img, color_ranges[1][0], color_ranges[1][1])\n",
    "    green_mask = cv2.inRange(hsv_img, color_ranges[2][0], color_ranges[2][1])\n",
    "    yellow_mask = cv2.inRange(hsv_img, color_ranges[3][0], color_ranges[3][1])\n",
    "\n",
    "    # Combinar las máscaras de rojo\n",
    "    red_mask = red_mask_1 + red_mask_2\n",
    "\n",
    "    # Calcular la cantidad de píxeles de cada color\n",
    "    red_count = cv2.countNonZero(red_mask)\n",
    "    green_count = cv2.countNonZero(green_mask)\n",
    "    yellow_count = cv2.countNonZero(yellow_mask)\n",
    "\n",
    "    # Determinar el color predominante\n",
    "    if red_count > green_count and red_count > yellow_count:\n",
    "        return 'red'\n",
    "    elif green_count > red_count and green_count > yellow_count:\n",
    "        return 'green'\n",
    "    elif yellow_count > red_count and yellow_count > green_count:\n",
    "        return 'yellow'\n",
    "    else:\n",
    "        return 'unknown'"
   ]
  },
  {
   "cell_type": "markdown",
   "metadata": {},
   "source": [
    "Procesamos todas las imagenes que fueron detectadas con objetos por YOLOv5 para poder luego determinar las que son semáforos para determinarles que color tiene actualmente para saber si es rojo, verde, amarillo"
   ]
  },
  {
   "cell_type": "code",
   "execution_count": 15,
   "metadata": {},
   "outputs": [],
   "source": [
    "def process_images():\n",
    "    images = os.listdir(images_folder)\n",
    "\n",
    "    for image_filename in images:\n",
    "        image_path = os.path.join(images_folder, image_filename)\n",
    "        label_path = os.path.join(labels_folder, image_filename.replace('.jpg', '.txt'))\n",
    "\n",
    "        with open(label_path, 'r') as label_file:\n",
    "            label = label_file.read().strip()\n",
    "\n",
    "        if label == 'traffic light':\n",
    "            img = cv2.imread(image_path)\n",
    "            color = detect_traffic_light_color(img)\n",
    "\n",
    "            if color != 'unknown':\n",
    "                new_label = f\"traffic_light_{color}\"\n",
    "                # Guardar la imagen y el label actualizado\n",
    "                output_image_path = os.path.join(final_output_folder_images, image_filename)\n",
    "                output_label_path = os.path.join(final_output_folder_labels, image_filename.replace('.jpg', '.txt'))\n",
    "\n",
    "                cv2.imwrite(output_image_path, img)\n",
    "                with open(output_label_path, 'w') as label_file:\n",
    "                    label_file.write(new_label)\n",
    "                # print(f\"Imagen {image_filename} guardada con etiqueta: {new_label}\")\n",
    "        else:\n",
    "            # Copiar las imágenes y etiquetas no relacionadas con \"traffic light\" al nuevo folder\n",
    "            shutil.copy(image_path, os.path.join(final_output_folder_images, image_filename))\n",
    "            shutil.copy(label_path, os.path.join(final_output_folder_labels, image_filename.replace('.jpg', '.txt')))\n",
    "            # print(f\"Imagen {image_filename} no es traffic light. Copiada al nuevo pool.\")\n"
   ]
  },
  {
   "cell_type": "code",
   "execution_count": 16,
   "metadata": {},
   "outputs": [],
   "source": [
    "process_images()"
   ]
  }
 ],
 "metadata": {
  "kernelspec": {
   "display_name": "Python 3",
   "language": "python",
   "name": "python3"
  },
  "language_info": {
   "codemirror_mode": {
    "name": "ipython",
    "version": 3
   },
   "file_extension": ".py",
   "mimetype": "text/x-python",
   "name": "python",
   "nbconvert_exporter": "python",
   "pygments_lexer": "ipython3",
   "version": "3.10.5"
  }
 },
 "nbformat": 4,
 "nbformat_minor": 2
}
