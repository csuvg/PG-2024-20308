{
 "cells": [
  {
   "cell_type": "markdown",
   "metadata": {},
   "source": [
    "# Pipeline para generar chuncks de video que permitan evaluar el rendimiento del sistema."
   ]
  },
  {
   "cell_type": "code",
   "execution_count": 8,
   "metadata": {},
   "outputs": [
    {
     "name": "stdout",
     "output_type": "stream",
     "text": [
      "Segmento guardado: segment_1_Recorriendo CIUDAD DE GUATEMALA en vehículo (Parte 1) - GUATEMALA 2024_from_240s.mp4 desde el segundo 240 en Recorriendo CIUDAD DE GUATEMALA en vehículo (Parte 1) - GUATEMALA 2024.mp4\n",
      "Segmento guardado: segment_2_Recorriendo CIUDAD DE GUATEMALA en vehículo (Parte 1) - GUATEMALA 2024_from_440s.mp4 desde el segundo 440 en Recorriendo CIUDAD DE GUATEMALA en vehículo (Parte 1) - GUATEMALA 2024.mp4\n",
      "Segmento guardado: segment_3_Recorriendo CIUDAD DE GUATEMALA en vehículo (Parte 2) - GUATEMALA 2024_from_1485s.mp4 desde el segundo 1485 en Recorriendo CIUDAD DE GUATEMALA en vehículo (Parte 2) - GUATEMALA 2024.mp4\n",
      "Segmento guardado: segment_4_Recorriendo CIUDAD DE GUATEMALA en vehículo (Parte 2) - GUATEMALA 2024_from_1610s.mp4 desde el segundo 1610 en Recorriendo CIUDAD DE GUATEMALA en vehículo (Parte 2) - GUATEMALA 2024.mp4\n"
     ]
    }
   ],
   "source": [
    "import cv2\n",
    "import os\n",
    "\n",
    "# Parámetros: lista de segmentos con video y tiempo de inicio\n",
    "segments = [\n",
    "    {'video': 'video_input/Recorriendo CIUDAD DE GUATEMALA en vehículo (Parte 1) - GUATEMALA 2024.mp4', 'start_time': 240},\n",
    "    {'video': 'video_input/Recorriendo CIUDAD DE GUATEMALA en vehículo (Parte 1) - GUATEMALA 2024.mp4', 'start_time': 440},\n",
    "    {'video': 'video_input/Recorriendo CIUDAD DE GUATEMALA en vehículo (Parte 2) - GUATEMALA 2024.mp4', 'start_time': 1485},\n",
    "    {'video': 'video_input/Recorriendo CIUDAD DE GUATEMALA en vehículo (Parte 2) - GUATEMALA 2024.mp4', 'start_time': 1610}\n",
    "]\n",
    "output_folder = 'video_input'\n",
    "segment_duration = 60  # Duración en segundos de cada segmento\n",
    "\n",
    "def generate_video_segments(segments, output_folder, segment_duration):\n",
    "    for idx, segment in enumerate(segments):\n",
    "        video_path = segment['video']\n",
    "        start_time = segment['start_time']\n",
    "\n",
    "        # Cargar el video y obtener su información\n",
    "        cap = cv2.VideoCapture(video_path)\n",
    "        fps = int(cap.get(cv2.CAP_PROP_FPS))\n",
    "        total_frames = int(cap.get(cv2.CAP_PROP_FRAME_COUNT))\n",
    "        video_duration = total_frames / fps\n",
    "\n",
    "        # Asegurarse de que el tiempo de inicio no exceda la duración total\n",
    "        if start_time + segment_duration > video_duration:\n",
    "            print(f\"Tiempo de inicio {start_time}s en {video_path} excede la duración del video. Segmento omitido.\")\n",
    "            cap.release()\n",
    "            continue\n",
    "\n",
    "        # Calcular el frame de inicio y fin\n",
    "        start_frame = int(start_time * fps)\n",
    "        end_frame = start_frame + int(segment_duration * fps)\n",
    "\n",
    "        # Configurar el nombre del archivo de salida\n",
    "        output_filename = f'segment_{idx+1}_{os.path.basename(video_path).split(\".\")[0]}_from_{int(start_time)}s.mp4'\n",
    "        output_path = os.path.join(output_folder, output_filename)\n",
    "\n",
    "        # Inicializar el writer de video para el segmento de salida\n",
    "        fourcc = cv2.VideoWriter_fourcc(*'mp4v')\n",
    "        width = int(cap.get(cv2.CAP_PROP_FRAME_WIDTH))\n",
    "        height = int(cap.get(cv2.CAP_PROP_FRAME_HEIGHT))\n",
    "        out = cv2.VideoWriter(output_path, fourcc, fps, (width, height))\n",
    "\n",
    "        # Capturar frames dentro del rango del segmento\n",
    "        cap.set(cv2.CAP_PROP_POS_FRAMES, start_frame)\n",
    "        current_frame = start_frame\n",
    "        while cap.isOpened() and current_frame < end_frame:\n",
    "            ret, frame = cap.read()\n",
    "            if not ret:\n",
    "                break\n",
    "            out.write(frame)\n",
    "            current_frame += 1\n",
    "\n",
    "        # Liberar el writer de video para el segmento actual\n",
    "        out.release()\n",
    "        cap.release()\n",
    "        print(f'Segmento guardado: {output_filename} desde el segundo {int(start_time)} en {os.path.basename(video_path)}')\n",
    "\n",
    "generate_video_segments(segments, output_folder, segment_duration)\n"
   ]
  }
 ],
 "metadata": {
  "kernelspec": {
   "display_name": "Python 3",
   "language": "python",
   "name": "python3"
  },
  "language_info": {
   "codemirror_mode": {
    "name": "ipython",
    "version": 3
   },
   "file_extension": ".py",
   "mimetype": "text/x-python",
   "name": "python",
   "nbconvert_exporter": "python",
   "pygments_lexer": "ipython3",
   "version": "3.10.5"
  }
 },
 "nbformat": 4,
 "nbformat_minor": 2
}
