{
 "cells": [
  {
   "cell_type": "markdown",
   "metadata": {},
   "source": [
    "# Vamos a normalizar los labels de todas las imagenes para poder introducirlos en el proceso de entrenamiento de YOLO"
   ]
  },
  {
   "cell_type": "code",
   "execution_count": 34,
   "metadata": {},
   "outputs": [],
   "source": [
    "import os"
   ]
  },
  {
   "cell_type": "code",
   "execution_count": 35,
   "metadata": {},
   "outputs": [],
   "source": [
    "class_mapping = {\n",
    "    'pedestrian_traffic_light_green': 0,\n",
    "    'pedestrian_traffic_light_red': 1,\n",
    "    'traffic_light_green': 2,\n",
    "    'traffic_light_red': 3,\n",
    "    'traffic_light_yellow': 4,\n",
    "    'stop': 5,\n",
    "    'stop sign': 5\n",
    "}"
   ]
  },
  {
   "cell_type": "code",
   "execution_count": 36,
   "metadata": {},
   "outputs": [],
   "source": [
    "def convert_labels_to_yolov8(labels_folder):\n",
    "    for label_file in os.listdir(labels_folder):\n",
    "        if label_file.endswith('.txt'):\n",
    "            label_path = os.path.join(labels_folder, label_file)\n",
    "\n",
    "            # Leer el archivo de etiquetas\n",
    "            with open(label_path, 'r') as file:\n",
    "                class_name = file.readline().strip()\n",
    "\n",
    "            # Convierte el nombre de la clase a class_id\n",
    "            if class_name in class_mapping:\n",
    "                class_id = class_mapping[class_name]\n",
    "\n",
    "                # Crea la nueva etiqueta en el formato YOLOv8\n",
    "                new_label = f\"{class_id} 0.5 0.5 1.0 1.0\"\n",
    "\n",
    "                # Sobrescribe el archivo de etiqueta con el nuevo formato\n",
    "                with open(label_path, 'w') as file:\n",
    "                    file.write(new_label)\n",
    "            else:\n",
    "                print(class_name)\n",
    "                print(label_path)\n",
    "                print(f\"Clase no encontrada en el mapeo: {class_name}\")\n"
   ]
  },
  {
   "cell_type": "code",
   "execution_count": 37,
   "metadata": {},
   "outputs": [],
   "source": [
    "train_label_folder = 'datasets/split_dataset/train/labels'\n",
    "val_label_folder = 'datasets/split_dataset/val/labels'\n",
    "test_label_folder = 'datasets/split_dataset/test/labels'"
   ]
  },
  {
   "cell_type": "code",
   "execution_count": 38,
   "metadata": {},
   "outputs": [],
   "source": [
    "convert_labels_to_yolov8(train_label_folder)\n",
    "convert_labels_to_yolov8(val_label_folder)\n",
    "convert_labels_to_yolov8(test_label_folder)"
   ]
  }
 ],
 "metadata": {
  "kernelspec": {
   "display_name": "Python 3",
   "language": "python",
   "name": "python3"
  },
  "language_info": {
   "codemirror_mode": {
    "name": "ipython",
    "version": 3
   },
   "file_extension": ".py",
   "mimetype": "text/x-python",
   "name": "python",
   "nbconvert_exporter": "python",
   "pygments_lexer": "ipython3",
   "version": "3.10.5"
  }
 },
 "nbformat": 4,
 "nbformat_minor": 2
}
