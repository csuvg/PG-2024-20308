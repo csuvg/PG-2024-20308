{
 "cells": [
  {
   "cell_type": "markdown",
   "metadata": {},
   "source": [
    "# Ejemplo de implementación de adaptación de sensores ADXL345 a Raspberry Pi 4b"
   ]
  },
  {
   "cell_type": "markdown",
   "metadata": {},
   "source": [
    "Script de python que podría ser implementado en una raspberry pi 4b para lectura de datos de aceleración y gyroscopio."
   ]
  },
  {
   "cell_type": "code",
   "execution_count": null,
   "metadata": {},
   "outputs": [],
   "source": [
    "import smbus\n",
    "import time\n",
    "import serial\n",
    "\n",
    "# Dirección ADXL345 I2C\n",
    "address = 0x53\n",
    "bus = smbus.SMBus(1)\n",
    "\n",
    "# Iniciar ADXL345\n",
    "bus.write_byte_data(address, 0x2D, 0x08)  # Establecer POWER_CTL en modo de medición\n",
    "\n",
    "# Setup para enviar datos a puerto USB\n",
    "ser = serial.Serial('/dev/ttyUSB0', 9600)\n",
    "\n",
    "def read_acceleration():\n",
    "    accel_x = bus.read_byte_data(address, 0x32)\n",
    "    accel_y = bus.read_byte_data(address, 0x34)\n",
    "    accel_z = bus.read_byte_data(address, 0x36)\n",
    "    return accel_x, accel_y, accel_z\n",
    "\n",
    "while True:\n",
    "    accel_data = read_acceleration()\n",
    "    ser.write(str(accel_data).encode())\n",
    "    time.sleep(0.1)  # Se puede ajustar la frecuencia\n"
   ]
  }
 ],
 "metadata": {
  "kernelspec": {
   "display_name": "Python 3",
   "language": "python",
   "name": "python3"
  },
  "language_info": {
   "name": "python",
   "version": "3.10.5"
  }
 },
 "nbformat": 4,
 "nbformat_minor": 2
}
