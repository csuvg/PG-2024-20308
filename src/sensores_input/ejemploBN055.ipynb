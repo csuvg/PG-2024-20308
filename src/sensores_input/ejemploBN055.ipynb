{
 "cells": [
  {
   "cell_type": "markdown",
   "metadata": {},
   "source": [
    "# Ejemplo de implementación de adaptación de sensores BN055 a Raspberry Pi 4b"
   ]
  },
  {
   "cell_type": "markdown",
   "metadata": {},
   "source": [
    "Script de python que podría ser implementado en una raspberry pi 4b para lectura de datos de aceleración y gyroscopio."
   ]
  },
  {
   "cell_type": "code",
   "execution_count": null,
   "metadata": {},
   "outputs": [],
   "source": [
    "import smbus\n",
    "import time\n",
    "import serial\n",
    "\n",
    "# Dirección BN055 I2C\n",
    "address = 0x28\n",
    "bus = smbus.SMBus(1)\n",
    "\n",
    "# Iniciar BN055 en modo NDOF (modo de fusión)\n",
    "bus.write_byte_data(address, 0x3D, 0x0C)\n",
    "\n",
    "# Setup\n",
    "ser = serial.Serial('/dev/ttyUSB0', 9600)\n",
    "\n",
    "def read_sensor_data():\n",
    "    accel_x = bus.read_word_data(address, 0x08)\n",
    "    accel_y = bus.read_word_data(address, 0x0A)\n",
    "    accel_z = bus.read_word_data(address, 0x0C)\n",
    "    gyro_x = bus.read_word_data(address, 0x14)\n",
    "    gyro_y = bus.read_word_data(address, 0x16)\n",
    "    gyro_z = bus.read_word_data(address, 0x18)\n",
    "    mag_x = bus.read_word_data(address, 0x0E)\n",
    "    mag_y = bus.read_word_data(address, 0x10)\n",
    "    mag_z = bus.read_word_data(address, 0x12)\n",
    "    return {\n",
    "        'accel': (accel_x, accel_y, accel_z),\n",
    "        'gyro': (gyro_x, gyro_y, gyro_z),\n",
    "        'mag': (mag_x, mag_y, mag_z)\n",
    "    }\n",
    "\n",
    "while True:\n",
    "    sensor_data = read_sensor_data()\n",
    "    ser.write(str(sensor_data).encode())\n",
    "    time.sleep(0.1)\n"
   ]
  }
 ],
 "metadata": {
  "kernelspec": {
   "display_name": "Python 3",
   "language": "python",
   "name": "python3"
  },
  "language_info": {
   "name": "python",
   "version": "3.10.5"
  }
 },
 "nbformat": 4,
 "nbformat_minor": 2
}
