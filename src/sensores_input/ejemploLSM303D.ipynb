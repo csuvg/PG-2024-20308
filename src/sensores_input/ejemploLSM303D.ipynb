{
 "cells": [
  {
   "cell_type": "markdown",
   "metadata": {},
   "source": [
    "# Ejemplo de implementación de adaptación de sensores LSM303D a Raspberry Pi 4b"
   ]
  },
  {
   "cell_type": "markdown",
   "metadata": {},
   "source": [
    "Script de python que podría ser implementado en una raspberry pi 4b para lectura de datos de aceleración y gyroscopio."
   ]
  },
  {
   "cell_type": "code",
   "execution_count": null,
   "metadata": {},
   "outputs": [],
   "source": [
    "import smbus\n",
    "import time\n",
    "import serial\n",
    "\n",
    "# Dirección LSM303D I2C\n",
    "address = 0x1D\n",
    "bus = smbus.SMBus(1)\n",
    "\n",
    "# Iniciar LSM303D\n",
    "bus.write_byte_data(address, 0x20, 0x57)  # Accelerometer config\n",
    "bus.write_byte_data(address, 0x24, 0x64)  # Magnetometer config\n",
    "\n",
    "# Setup\n",
    "ser = serial.Serial('/dev/ttyUSB0', 9600)\n",
    "\n",
    "def read_acceleration():\n",
    "    accel_x = bus.read_byte_data(address, 0x28)\n",
    "    accel_y = bus.read_byte_data(address, 0x2A)\n",
    "    accel_z = bus.read_byte_data(address, 0x2C)\n",
    "    return accel_x, accel_y, accel_z\n",
    "\n",
    "def read_magnetometer():\n",
    "    mag_x = bus.read_byte_data(address, 0x08)\n",
    "    mag_y = bus.read_byte_data(address, 0x0A)\n",
    "    mag_z = bus.read_byte_data(address, 0x0C)\n",
    "    return mag_x, mag_y, mag_z\n",
    "\n",
    "while True:\n",
    "    accel_data = read_acceleration()\n",
    "    mag_data = read_magnetometer()\n",
    "    sensor_data = {\n",
    "        'accel': accel_data,\n",
    "        'mag': mag_data\n",
    "    }\n",
    "    ser.write(str(sensor_data).encode())\n",
    "    time.sleep(0.1)\n"
   ]
  }
 ],
 "metadata": {
  "kernelspec": {
   "display_name": "Python 3",
   "language": "python",
   "name": "python3"
  },
  "language_info": {
   "name": "python",
   "version": "3.10.5"
  }
 },
 "nbformat": 4,
 "nbformat_minor": 2
}
