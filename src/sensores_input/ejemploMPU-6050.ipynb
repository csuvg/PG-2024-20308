{
 "cells": [
  {
   "cell_type": "markdown",
   "metadata": {},
   "source": [
    "# Ejemplo de implementación de adaptación de sensores MPU-6050 a Raspberry Pi 4b"
   ]
  },
  {
   "cell_type": "markdown",
   "metadata": {},
   "source": [
    "Script de python que podría ser implementado en una raspberry pi 4b para lectura de datos de aceleración y gyroscopio."
   ]
  },
  {
   "cell_type": "code",
   "execution_count": null,
   "metadata": {},
   "outputs": [],
   "source": [
    "import smbus\n",
    "import time\n",
    "import serial\n",
    "\n",
    "# Setup de MPU-6050\n",
    "bus = smbus.SMBus(1)\n",
    "address = 0x68  # Dirección MPU6050 I2C\n",
    "bus.write_byte_data(address, 0x6B, 0)  # Despertar MPU6050\n",
    "\n",
    "# Setup para enviar datos por puerto USB a computadora\n",
    "ser = serial.Serial('/dev/ttyUSB0', 9600)\n",
    "\n",
    "def read_acceleration():\n",
    "    accel_x = bus.read_word_data(address, 0x3B)\n",
    "    accel_y = bus.read_word_data(address, 0x3D)\n",
    "    accel_z = bus.read_word_data(address, 0x3F)\n",
    "    return accel_x, accel_y, accel_z\n",
    "\n",
    "def read_gyroscope():\n",
    "    gyro_x = bus.read_word_data(address, 0x43)\n",
    "    gyro_y = bus.read_word_data(address, 0x45)\n",
    "    gyro_z = bus.read_word_data(address, 0x47)\n",
    "    return gyro_x, gyro_y, gyro_z\n",
    "\n",
    "while True:\n",
    "    accel_data = read_acceleration()\n",
    "    gyro_data = read_gyroscope()\n",
    "    sensor_data = {\n",
    "        'accel': accel_data,\n",
    "        'gyro': gyro_data\n",
    "    }\n",
    "    ser.write(str(sensor_data).encode())\n",
    "    time.sleep(0.1)  # Se puede ajustar la frecuencia\n"
   ]
  }
 ],
 "metadata": {
  "kernelspec": {
   "display_name": "Python 3",
   "language": "python",
   "name": "python3"
  },
  "language_info": {
   "name": "python",
   "version": "3.10.5"
  }
 },
 "nbformat": 4,
 "nbformat_minor": 2
}
