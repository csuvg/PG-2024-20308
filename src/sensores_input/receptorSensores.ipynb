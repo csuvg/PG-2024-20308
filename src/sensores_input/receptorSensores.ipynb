{
 "cells": [
  {
   "cell_type": "markdown",
   "metadata": {},
   "source": [
    "# Receptor de sensores externos"
   ]
  },
  {
   "cell_type": "markdown",
   "metadata": {},
   "source": [
    "Scrips de python que demuestran como debería de ser la recepción de sensores en un dispositivo laptop donde se dan algunos ejemplos de estos mismos."
   ]
  },
  {
   "cell_type": "markdown",
   "metadata": {},
   "source": [
    "### Ejemplo de recepción de datos para el sensore MPU-6050, ADXL345, LSM303D, BN055"
   ]
  },
  {
   "cell_type": "code",
   "execution_count": null,
   "metadata": {},
   "outputs": [],
   "source": [
    "import serial\n",
    "import platform\n",
    "import os\n",
    "\n",
    "def get_serial_port():\n",
    "    system = platform.system()\n",
    "    architecture = platform.machine()\n",
    "\n",
    "    # Linux (x86_64, ARM)\n",
    "    if system == 'Linux':\n",
    "        if architecture == 'x86_64':\n",
    "            return '/dev/ttyUSB0'  # En Linux x86_64 típico\n",
    "        elif 'arm' in architecture or 'aarch64' in architecture:\n",
    "            return '/dev/ttyAMA0'  # En Linux ARM, como Raspberry Pi\n",
    "\n",
    "    # Mac (x86_64, ARM)\n",
    "    elif system == 'Darwin':\n",
    "        if architecture == 'x86_64':\n",
    "            # Lista puertos en macOS para encontrar dispositivos seriales\n",
    "            ports = [p for p in os.listdir('/dev') if 'tty.usbserial' in p or 'cu.usbserial' in p]\n",
    "            return f'/dev/{ports[0]}' if ports else '/dev/cu.usbserial-XXXX'\n",
    "        elif architecture == 'arm64':\n",
    "            # Para Macs con Apple Silicon (M1/M2)\n",
    "            ports = [p for p in os.listdir('/dev') if 'tty.usbserial' in p or 'cu.usbserial' in p]\n",
    "            return f'/dev/{ports[0]}' if ports else '/dev/cu.usbserial-XXXX'\n",
    "\n",
    "    # Windows (x86_64, ARM)\n",
    "    elif system == 'Windows':\n",
    "        # En Windows, los puertos seriales usan nombres como 'COM1', 'COM2', etc.\n",
    "        return 'COM3'  # Cambia 'COM3' por el puerto COM en tu Windows\n",
    "\n",
    "    raise Exception(f\"Unsupported system or architecture: {system} on {architecture}\")\n",
    "\n",
    "# Obtener el puerto adecuado\n",
    "port = get_serial_port()\n",
    "\n",
    "# Iniciar la comunicación serial\n",
    "try:\n",
    "    ser = serial.Serial(port, 9600)\n",
    "\n",
    "    while True:\n",
    "        data = ser.readline().decode('utf-8').strip()\n",
    "        print(f\"Received Sensor Data: {data}\")\n",
    "\n",
    "except serial.SerialException as e:\n",
    "    print(f\"Error opening serial port: {e}\")\n"
   ]
  }
 ],
 "metadata": {
  "kernelspec": {
   "display_name": "Python 3",
   "language": "python",
   "name": "python3"
  },
  "language_info": {
   "codemirror_mode": {
    "name": "ipython",
    "version": 3
   },
   "file_extension": ".py",
   "mimetype": "text/x-python",
   "name": "python",
   "nbconvert_exporter": "python",
   "pygments_lexer": "ipython3",
   "version": "3.10.5"
  }
 },
 "nbformat": 4,
 "nbformat_minor": 2
}
