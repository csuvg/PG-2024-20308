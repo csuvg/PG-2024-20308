{
 "cells": [
  {
   "cell_type": "markdown",
   "metadata": {},
   "source": [
    "# Simulacion de sensores de un vehiculo"
   ]
  },
  {
   "cell_type": "code",
   "execution_count": 33,
   "metadata": {},
   "outputs": [],
   "source": [
    "import time\n",
    "import random"
   ]
  },
  {
   "cell_type": "markdown",
   "metadata": {},
   "source": [
    "### Parámetros de simulación"
   ]
  },
  {
   "cell_type": "code",
   "execution_count": 34,
   "metadata": {},
   "outputs": [],
   "source": [
    "initial_speed = 0  # Velocidad inicial en km/h\n",
    "max_speed = 50  # Velocidad máxima en entorno urbano (km/h)\n",
    "acceleration = 5  # Aceleración en km/h por segundo\n",
    "deceleration = 7  # Deceleración normal en km/h por segundo\n",
    "stop_deceleration = 15  # Deceleración rápida pero gradual para detenerse (en km/h por segundo)\n",
    "stop_chance = 0.1  # Probabilidad de tener que detenerse por completo (semáforo/alto)\n",
    "stop_duration_range = (3, 7)  # Duración de las paradas en segundos\n",
    "time_between_stops = 7  # Tiempo mínimo entre paradas en segundos\n",
    "speed = initial_speed\n",
    "\n",
    "is_accelerating = True\n",
    "is_stopped = False\n",
    "is_slowing_down = False\n",
    "stop_timer = 0\n",
    "last_stop_time = time.time()  # Inicializamos con el tiempo actual"
   ]
  },
  {
   "cell_type": "markdown",
   "metadata": {},
   "source": [
    "### Simulación de velocidad"
   ]
  },
  {
   "cell_type": "code",
   "execution_count": 35,
   "metadata": {},
   "outputs": [],
   "source": [
    "def simulate_speed(current_speed, max_speed, acceleration, deceleration, stop_deceleration):\n",
    "    global is_accelerating, is_stopped, stop_timer, is_slowing_down, last_stop_time\n",
    "\n",
    "    # Obtener el tiempo actual\n",
    "    current_time = time.time()\n",
    "    time_since_last_stop = current_time - last_stop_time\n",
    "\n",
    "    # Si el vehículo está detenido en un semáforo o señal de alto\n",
    "    if is_stopped:\n",
    "        stop_timer -= 0.1  # Restamos 0.1 segundos al contador de parada\n",
    "        if stop_timer <= 0:\n",
    "            is_stopped = False  # Reiniciamos y el vehículo comienza a moverse\n",
    "        return 0  # Mientras está detenido, la velocidad es 0\n",
    "\n",
    "    # Simular paradas aleatorias en semáforos o señales de alto\n",
    "    if current_speed > 40 and time_since_last_stop > time_between_stops and random.random() < stop_chance:  # Solo si va a más de 40 km/h y ha pasado suficiente tiempo\n",
    "        print(' ======> STOPP!')\n",
    "        is_slowing_down = True\n",
    "        last_stop_time = current_time  # Actualizamos el último tiempo de parada\n",
    "        return max(0, current_speed)  # Mantenemos la velocidad actual mientras desaceleramos\n",
    "\n",
    "    # Si está en proceso de desaceleración para parar\n",
    "    if is_slowing_down:\n",
    "        new_speed = current_speed - stop_deceleration * 0.1  # Desaceleramos rápidamente pero gradualmente\n",
    "        if new_speed <= 0:  # Cuando la velocidad llega a 0, el vehículo se detiene\n",
    "            is_slowing_down = False\n",
    "            is_stopped = True\n",
    "            stop_timer = random.uniform(*stop_duration_range)  # Generar duración aleatoria de la parada\n",
    "            return 0\n",
    "        return round(new_speed, 2)  # Devolvemos la nueva velocidad gradualmente disminuida\n",
    "\n",
    "    # Simular aceleración y desaceleración normales\n",
    "    if is_accelerating:\n",
    "        new_speed = current_speed + acceleration * 0.1  # Aceleramos\n",
    "        if new_speed >= max_speed:\n",
    "            new_speed = max_speed\n",
    "            is_accelerating = False  # Cambiamos a desaceleración\n",
    "    else:\n",
    "        new_speed = current_speed - deceleration * 0.1  # Desaceleramos normalmente\n",
    "        if new_speed <= 0:\n",
    "            new_speed = 0\n",
    "            is_accelerating = True  # Cambiamos de nuevo a aceleración\n",
    "\n",
    "    # Añadir ruido para simular fluctuaciones realistas\n",
    "    new_speed += random.uniform(-0.5, 0.5)  # Pequeño ruido entre -0.5 y 0.5 km/h\n",
    "    return max(0, round(new_speed, 2))  # No permitimos que la velocidad sea negativa\n"
   ]
  },
  {
   "cell_type": "markdown",
   "metadata": {},
   "source": [
    "## Simulación de vehiculo en movimiento"
   ]
  },
  {
   "cell_type": "code",
   "execution_count": null,
   "metadata": {},
   "outputs": [],
   "source": [
    "try:\n",
    "    while True:\n",
    "        speed = simulate_speed(speed, max_speed, acceleration, deceleration, stop_deceleration)\n",
    "        print(f\"Velocidad simulada: {speed} km/h\")\n",
    "\n",
    "        # Pausa de 0.1 segundos para simular el tiempo de muestreo\n",
    "        time.sleep(0.1)\n",
    "\n",
    "except KeyboardInterrupt:\n",
    "    print(\"Simulación detenida\")"
   ]
  }
 ],
 "metadata": {
  "kernelspec": {
   "display_name": "Python 3",
   "language": "python",
   "name": "python3"
  },
  "language_info": {
   "codemirror_mode": {
    "name": "ipython",
    "version": 3
   },
   "file_extension": ".py",
   "mimetype": "text/x-python",
   "name": "python",
   "nbconvert_exporter": "python",
   "pygments_lexer": "ipython3",
   "version": "3.10.5"
  }
 },
 "nbformat": 4,
 "nbformat_minor": 2
}
