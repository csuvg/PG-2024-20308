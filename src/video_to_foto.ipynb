{
 "cells": [
  {
   "cell_type": "markdown",
   "metadata": {},
   "source": [
    "# Transformación de un archivo de video a fotos"
   ]
  },
  {
   "cell_type": "code",
   "execution_count": 5,
   "metadata": {},
   "outputs": [],
   "source": [
    "import cv2\n",
    "import os"
   ]
  },
  {
   "cell_type": "markdown",
   "metadata": {},
   "source": [
    "Debemos de definir la ruta donde se encuentra el video de input y la carpeta de output donde queremos almacenar las capturas de frames."
   ]
  },
  {
   "cell_type": "code",
   "execution_count": 6,
   "metadata": {},
   "outputs": [],
   "source": [
    "video_folder_path = 'video_input'\n",
    "output_folder = 'datasets/dataset_secundario'"
   ]
  },
  {
   "cell_type": "markdown",
   "metadata": {},
   "source": [
    "Verificamos si la ruta de salida existe o no para crearla"
   ]
  },
  {
   "cell_type": "code",
   "execution_count": 7,
   "metadata": {},
   "outputs": [],
   "source": [
    "if not os.path.exists(output_folder):\n",
    "    os.makedirs(output_folder)"
   ]
  },
  {
   "cell_type": "markdown",
   "metadata": {},
   "source": [
    "Cargamos la ruta de videos para ser procesada con cv2 donde verificamos que el video sea de un formato conocido y liego lo cargamos a cv2. Al cargarlo tomamos una regla de 20 frames para tomar una captura y evitar tener muchas imagenes repetidas."
   ]
  },
  {
   "cell_type": "code",
   "execution_count": 8,
   "metadata": {},
   "outputs": [
    {
     "name": "stdout",
     "output_type": "stream",
     "text": [
      "Proceso completado para Recorriendo CIUDAD DE GUATEMALA en vehículo (Parte 1) - GUATEMALA 2024.mp4\n",
      "Proceso completado para Recorriendo CIUDAD DE GUATEMALA en vehículo (Parte 2) - GUATEMALA 2024.mp4\n",
      "Proceso completado para todos los videos\n"
     ]
    }
   ],
   "source": [
    "for video_filename in os.listdir(video_folder_path):\n",
    "    video_path = os.path.join(video_folder_path, video_filename)\n",
    "\n",
    "    video_filename_cleaned = video_filename.replace(' ', '_')\n",
    "\n",
    "    # Verificar si el archivo es un video de un formato conocido\n",
    "    if not video_filename.lower().endswith(('.mp4', '.avi', '.mov', '.mkv')):\n",
    "        continue  # Ignoramos los archivos que no sean videos\n",
    "\n",
    "    # Cargar el video a herramienta de cv2\n",
    "    cap = cv2.VideoCapture(video_path)\n",
    "\n",
    "    # Verificar si el video se ha abierto correctamente para comenzar a procesarlos\n",
    "    if not cap.isOpened():\n",
    "        print(f\"Error al abrir el video {video_path}\")\n",
    "        continue\n",
    "\n",
    "    frame_rate = 20  # Guardar un frame cada 20 frames\n",
    "    current_frame = 0\n",
    "\n",
    "    while True:\n",
    "        ret, frame = cap.read()\n",
    "\n",
    "        if not ret:\n",
    "            break  # Salir del loop cuando se acaben los frames del video\n",
    "\n",
    "        if current_frame % frame_rate == 0:\n",
    "            # Crear un subdirectorio para cada video en la carpeta de salida\n",
    "            video_output_folder = os.path.join(output_folder, os.path.splitext(video_filename)[0])\n",
    "            if not os.path.exists(video_output_folder):\n",
    "                os.makedirs(video_output_folder)\n",
    "\n",
    "            # Guardar el frame en la carpeta de salida\n",
    "            frame_name = os.path.join(video_output_folder, f\"frame_{current_frame}_{video_filename_cleaned}.jpg\")\n",
    "            cv2.imwrite(frame_name, frame)\n",
    "            # print(f\"Frame guardado en: {frame_name}\")\n",
    "\n",
    "        current_frame += 1\n",
    "\n",
    "    # Liberar el video\n",
    "    cap.release()\n",
    "    print(f\"Proceso completado para {video_filename}\")\n",
    "\n",
    "print(\"Proceso completado para todos los videos\")"
   ]
  }
 ],
 "metadata": {
  "kernelspec": {
   "display_name": "Python 3",
   "language": "python",
   "name": "python3"
  },
  "language_info": {
   "codemirror_mode": {
    "name": "ipython",
    "version": 3
   },
   "file_extension": ".py",
   "mimetype": "text/x-python",
   "name": "python",
   "nbconvert_exporter": "python",
   "pygments_lexer": "ipython3",
   "version": "3.10.5"
  }
 },
 "nbformat": 4,
 "nbformat_minor": 2
}
